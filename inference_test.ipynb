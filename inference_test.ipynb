{
 "cells": [
  {
   "cell_type": "code",
   "execution_count": 1,
   "metadata": {},
   "outputs": [],
   "source": [
    "import numpy as np\n",
    "import pandas as pd\n",
    "import matplotlib.pyplot as plt\n",
    "import seaborn as sns\n",
    "import warnings\n",
    "warnings.filterwarnings('ignore')\n"
   ]
  },
  {
   "cell_type": "code",
   "execution_count": 2,
   "metadata": {},
   "outputs": [],
   "source": [
    "from sklearn import metrics\n",
    "from sklearn.metrics import mean_squared_error, mean_absolute_error, r2_score\n",
    "from sklearn.model_selection import train_test_split\n",
    "from sklearn.ensemble import ExtraTreesRegressor\n",
    "from sklearn.ensemble import GradientBoostingRegressor\n",
    "from sklearn.ensemble import RandomForestRegressor\n",
    "from sklearn.neighbors import KNeighborsRegressor\n",
    "from sklearn.tree import DecisionTreeRegressor\n",
    "from xgboost.sklearn import XGBRegressor\n",
    "from sklearn.ensemble import AdaBoostRegressor"
   ]
  },
  {
   "cell_type": "code",
   "execution_count": 3,
   "metadata": {},
   "outputs": [
    {
     "data": {
      "text/html": [
       "<div>\n",
       "<style scoped>\n",
       "    .dataframe tbody tr th:only-of-type {\n",
       "        vertical-align: middle;\n",
       "    }\n",
       "\n",
       "    .dataframe tbody tr th {\n",
       "        vertical-align: top;\n",
       "    }\n",
       "\n",
       "    .dataframe thead th {\n",
       "        text-align: right;\n",
       "    }\n",
       "</style>\n",
       "<table border=\"1\" class=\"dataframe\">\n",
       "  <thead>\n",
       "    <tr style=\"text-align: right;\">\n",
       "      <th></th>\n",
       "      <th>power_kw</th>\n",
       "      <th>wind_speed_ms</th>\n",
       "      <th>theoretical_power_kw</th>\n",
       "      <th>wind_direction_deg</th>\n",
       "      <th>year</th>\n",
       "      <th>month</th>\n",
       "      <th>day</th>\n",
       "      <th>hour</th>\n",
       "    </tr>\n",
       "  </thead>\n",
       "  <tbody>\n",
       "    <tr>\n",
       "      <th>0</th>\n",
       "      <td>380.047791</td>\n",
       "      <td>5.311336</td>\n",
       "      <td>416.328908</td>\n",
       "      <td>259.994904</td>\n",
       "      <td>2018</td>\n",
       "      <td>1</td>\n",
       "      <td>1</td>\n",
       "      <td>0</td>\n",
       "    </tr>\n",
       "    <tr>\n",
       "      <th>1</th>\n",
       "      <td>453.769196</td>\n",
       "      <td>5.672167</td>\n",
       "      <td>519.917511</td>\n",
       "      <td>268.641113</td>\n",
       "      <td>2018</td>\n",
       "      <td>1</td>\n",
       "      <td>1</td>\n",
       "      <td>0</td>\n",
       "    </tr>\n",
       "    <tr>\n",
       "      <th>2</th>\n",
       "      <td>306.376587</td>\n",
       "      <td>5.216037</td>\n",
       "      <td>390.900016</td>\n",
       "      <td>272.564789</td>\n",
       "      <td>2018</td>\n",
       "      <td>1</td>\n",
       "      <td>1</td>\n",
       "      <td>0</td>\n",
       "    </tr>\n",
       "    <tr>\n",
       "      <th>3</th>\n",
       "      <td>419.645905</td>\n",
       "      <td>5.659674</td>\n",
       "      <td>516.127569</td>\n",
       "      <td>271.258087</td>\n",
       "      <td>2018</td>\n",
       "      <td>1</td>\n",
       "      <td>1</td>\n",
       "      <td>0</td>\n",
       "    </tr>\n",
       "    <tr>\n",
       "      <th>4</th>\n",
       "      <td>380.650696</td>\n",
       "      <td>5.577941</td>\n",
       "      <td>491.702972</td>\n",
       "      <td>265.674286</td>\n",
       "      <td>2018</td>\n",
       "      <td>1</td>\n",
       "      <td>1</td>\n",
       "      <td>0</td>\n",
       "    </tr>\n",
       "  </tbody>\n",
       "</table>\n",
       "</div>"
      ],
      "text/plain": [
       "     power_kw  wind_speed_ms  theoretical_power_kw  wind_direction_deg  year   \n",
       "0  380.047791       5.311336            416.328908          259.994904  2018  \\\n",
       "1  453.769196       5.672167            519.917511          268.641113  2018   \n",
       "2  306.376587       5.216037            390.900016          272.564789  2018   \n",
       "3  419.645905       5.659674            516.127569          271.258087  2018   \n",
       "4  380.650696       5.577941            491.702972          265.674286  2018   \n",
       "\n",
       "   month  day  hour  \n",
       "0      1    1     0  \n",
       "1      1    1     0  \n",
       "2      1    1     0  \n",
       "3      1    1     0  \n",
       "4      1    1     0  "
      ]
     },
     "execution_count": 3,
     "metadata": {},
     "output_type": "execute_result"
    }
   ],
   "source": [
    "df = pd.read_csv(\"df.csv\")\n",
    "df.head()"
   ]
  },
  {
   "cell_type": "code",
   "execution_count": 4,
   "metadata": {},
   "outputs": [
    {
     "name": "stdout",
     "output_type": "stream",
     "text": [
      "Dimensions of train set:\n",
      "X_train: (40424, 5), Y_train: (40424,)\n",
      "Dimensions of test set:\n",
      "X_test: (10106, 5), Y_test: (10106,)\n"
     ]
    }
   ],
   "source": [
    "features = ['power_kw', 'wind_speed_ms', 'wind_direction_deg', 'month', 'day', 'hour'] \n",
    "\n",
    "training_data = df[features]\n",
    "X = training_data.drop(columns=['power_kw'], axis = 1).values\n",
    "Y= training_data['power_kw'].values\n",
    "\n",
    "x_train , x_test , y_train , y_test = train_test_split(X, Y, test_size=0.20, random_state=1234)\n",
    "\n",
    "print(\"Dimensions of train set:\")\n",
    "print(f\"X_train: {x_train.shape}, Y_train: {y_train.shape}\")\n",
    "print(\"Dimensions of test set:\")\n",
    "print(f\"X_test: {x_test.shape}, Y_test: {y_test.shape}\")"
   ]
  },
  {
   "cell_type": "code",
   "execution_count": 5,
   "metadata": {},
   "outputs": [
    {
     "name": "stdout",
     "output_type": "stream",
     "text": [
      "\t\tError Table\n",
      "Mean Absolute Error      :  51.646818753259495\n",
      "Mean Squared  Error      :  17258.780104670965\n",
      "Root Mean Squared  Error :  131.37267640065406\n",
      "Accuracy on Training set   :  0.9999077946091646\n",
      "Accuracy on Testing set  :  0.9900887605692937\n"
     ]
    }
   ],
   "source": [
    "import pickle\n",
    "\n",
    "with open('etree_tuned.pickle', 'rb') as f:\n",
    "    model = pickle.load(f)\n",
    "\n",
    "y_pred_test = model.predict(x_test)\n",
    "y_pred_train = model.predict(x_train)\n",
    "y_total_prediction = model.predict(X)\n",
    "\n",
    "print(\"\\t\\tError Table\")\n",
    "print('Mean Absolute Error      : ', metrics.mean_absolute_error(y_test, y_pred_test))\n",
    "print('Mean Squared  Error      : ', metrics.mean_squared_error(y_test, y_pred_test))\n",
    "print('Root Mean Squared  Error : ', np.sqrt(metrics.mean_squared_error(y_test, y_pred_test)))\n",
    "print('Accuracy on Training set   : ', metrics.r2_score(y_train,y_pred_train))\n",
    "print('Accuracy on Testing set  : ', metrics.r2_score(y_test,y_pred_test))"
   ]
  },
  {
   "cell_type": "code",
   "execution_count": 6,
   "metadata": {},
   "outputs": [
    {
     "name": "stdout",
     "output_type": "stream",
     "text": [
      "Accuracy on Testing set  :  0.9979225334845138\n",
      "Mean Absolute Error      :  14.813175152006036\n"
     ]
    }
   ],
   "source": [
    "print('Accuracy on Testing set  : ', metrics.r2_score(Y,y_total_prediction))\n",
    "print('Mean Absolute Error      : ', metrics.mean_absolute_error(Y,y_total_prediction))"
   ]
  },
  {
   "attachments": {},
   "cell_type": "markdown",
   "metadata": {},
   "source": [
    "INFERENCE WITH COMPRESSED PICKLE"
   ]
  },
  {
   "cell_type": "code",
   "execution_count": 9,
   "metadata": {},
   "outputs": [],
   "source": [
    "import bz2file as bz2\n",
    "import pickle\n",
    "import numpy as np\n",
    "from sklearn.ensemble import RandomForestRegressor"
   ]
  },
  {
   "cell_type": "code",
   "execution_count": 10,
   "metadata": {},
   "outputs": [
    {
     "name": "stdout",
     "output_type": "stream",
     "text": [
      "\t\tError Table\n",
      "Mean Absolute Error      :  59.34199220281618\n",
      "Mean Squared  Error      :  22640.90121970747\n",
      "Root Mean Squared  Error :  150.4689377237291\n",
      "Accuracy on Training set   :  0.9977891265399955\n",
      "Accuracy on Testing set  :  0.9869979574712376\n"
     ]
    }
   ],
   "source": [
    "# Define a function to load the model from a compressed pickle file\n",
    "def decompress_pickle(file):\n",
    "    data = bz2.BZ2File(file, 'rb')\n",
    "    data = pickle.load(data)\n",
    "    return data\n",
    "\n",
    "model2 = decompress_pickle('best_rf.pbz2')\n",
    "\n",
    "y_pred_test = model2.predict(x_test)\n",
    "y_pred_train = model2.predict(x_train)\n",
    "y_total_prediction = model2.predict(X)\n",
    "\n",
    "print(\"\\t\\tError Table\")\n",
    "print('Mean Absolute Error      : ', metrics.mean_absolute_error(y_test, y_pred_test))\n",
    "print('Mean Squared  Error      : ', metrics.mean_squared_error(y_test, y_pred_test))\n",
    "print('Root Mean Squared  Error : ', np.sqrt(metrics.mean_squared_error(y_test, y_pred_test)))\n",
    "print('Accuracy on Training set   : ', metrics.r2_score(y_train,y_pred_train))\n",
    "print('Accuracy on Testing set  : ', metrics.r2_score(y_test,y_pred_test))"
   ]
  }
 ],
 "metadata": {
  "kernelspec": {
   "display_name": "mlflow-loan",
   "language": "python",
   "name": "python3"
  },
  "language_info": {
   "codemirror_mode": {
    "name": "ipython",
    "version": 3
   },
   "file_extension": ".py",
   "mimetype": "text/x-python",
   "name": "python",
   "nbconvert_exporter": "python",
   "pygments_lexer": "ipython3",
   "version": "3.8.16"
  },
  "orig_nbformat": 4
 },
 "nbformat": 4,
 "nbformat_minor": 2
}
