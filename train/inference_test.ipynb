{
 "cells": [
  {
   "cell_type": "code",
   "execution_count": null,
   "metadata": {},
   "outputs": [],
   "source": [
    "import pickle\n",
    "from sklearn.ensemble import RandomForestRegressor\n",
    "\n",
    "# Load the trained model from the file\n",
    "with open('best_rf.pickle', 'rb') as f:\n",
    "    rf = pickle.load(f)\n",
    "\n",
    "# Use the restored model to make predictions\n",
    "X_test = ...\n",
    "y_pred = rf.predict(X_test)\n"
   ]
  }
 ],
 "metadata": {
  "language_info": {
   "name": "python"
  },
  "orig_nbformat": 4
 },
 "nbformat": 4,
 "nbformat_minor": 2
}
