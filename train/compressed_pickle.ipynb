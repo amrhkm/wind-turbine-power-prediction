{
 "cells": [
  {
   "cell_type": "code",
   "execution_count": null,
   "metadata": {},
   "outputs": [
    {
     "ename": "",
     "evalue": "",
     "output_type": "error",
     "traceback": [
      "\u001b[1;31mFailed to start the Kernel. \n",
      "\u001b[1;31mUnable to start Kernel 'mlflow-loan (Python 3.8.16)' due to connection timeout. \n",
      "\u001b[1;31mView Jupyter <a href='command:jupyter.viewOutput'>log</a> for further details."
     ]
    }
   ],
   "source": [
    "import numpy as np\n",
    "import pandas as pd\n",
    "import matplotlib.pyplot as plt\n",
    "import seaborn as sns\n",
    "import warnings\n",
    "warnings.filterwarnings('ignore')\n",
    "from sklearn import metrics\n",
    "from sklearn.metrics import mean_squared_error, mean_absolute_error, r2_score\n",
    "from sklearn.model_selection import train_test_split\n",
    "from sklearn.ensemble import ExtraTreesRegressor\n",
    "from sklearn.ensemble import GradientBoostingRegressor\n",
    "from sklearn.ensemble import RandomForestRegressor\n",
    "from sklearn.neighbors import KNeighborsRegressor\n",
    "from sklearn.tree import DecisionTreeRegressor\n",
    "from xgboost.sklearn import XGBRegressor\n",
    "from sklearn.ensemble import AdaBoostRegressor\n",
    "import bz2file as bz2\n",
    "import pickle\n"
   ]
  },
  {
   "cell_type": "code",
   "execution_count": null,
   "metadata": {},
   "outputs": [
    {
     "ename": "",
     "evalue": "",
     "output_type": "error",
     "traceback": [
      "\u001b[1;31mFailed to start the Kernel. \n",
      "\u001b[1;31mUnable to start Kernel 'mlflow-loan (Python 3.8.16)' due to connection timeout. \n",
      "\u001b[1;31mView Jupyter <a href='command:jupyter.viewOutput'>log</a> for further details."
     ]
    }
   ],
   "source": [
    "df = pd.read_csv(r\"C:\\Users\\hamir\\Desktop\\Wind Turbine\\data\\df.csv\")\n",
    "df.head()"
   ]
  },
  {
   "cell_type": "code",
   "execution_count": null,
   "metadata": {},
   "outputs": [
    {
     "ename": "",
     "evalue": "",
     "output_type": "error",
     "traceback": [
      "\u001b[1;31mFailed to start the Kernel. \n",
      "\u001b[1;31mUnable to start Kernel 'mlflow-loan (Python 3.8.16)' due to connection timeout. \n",
      "\u001b[1;31mView Jupyter <a href='command:jupyter.viewOutput'>log</a> for further details."
     ]
    }
   ],
   "source": [
    "features = ['power_kw', 'wind_speed_ms', 'wind_direction_deg', 'month', 'day', 'hour'] #without theoretical power \n",
    "\n",
    "training_data = df[features]\n",
    "X = training_data.drop(columns=['power_kw'], axis = 1).values\n",
    "Y= training_data['power_kw'].values\n",
    "\n",
    "x_train , x_test , y_train , y_test = train_test_split(X, Y, test_size=0.20, random_state=1234)\n",
    "\n",
    "print(\"Dimensions of train set:\")\n",
    "print(f\"X_train: {x_train.shape}, Y_train: {y_train.shape}\")\n",
    "print(\"Dimensions of test set:\")\n",
    "print(f\"X_test: {x_test.shape}, Y_test: {y_test.shape}\")\n"
   ]
  },
  {
   "cell_type": "code",
   "execution_count": null,
   "metadata": {},
   "outputs": [
    {
     "ename": "",
     "evalue": "",
     "output_type": "error",
     "traceback": [
      "\u001b[1;31mFailed to start the Kernel. \n",
      "\u001b[1;31mUnable to start Kernel 'mlflow-loan (Python 3.8.16)' due to connection timeout. \n",
      "\u001b[1;31mView Jupyter <a href='command:jupyter.viewOutput'>log</a> for further details."
     ]
    }
   ],
   "source": [
    "import pickle\n",
    "from sklearn.ensemble import RandomForestRegressor\n",
    "\n",
    "# Load the trained model from the file\n",
    "with open('best_rf.pickle', 'rb') as f:\n",
    "    model = pickle.load(f)\n",
    "\n",
    "# Use the restored model to make predictions\n",
    "y_pred_test = model.predict(x_test)\n",
    "y_pred_train = model.predict(x_train)\n",
    "y_total_prediction = model.predict(X)\n",
    "\n",
    "print(\"\\t\\tError Table\")\n",
    "print('Mean Absolute Error      : ', metrics.mean_absolute_error(y_test, y_pred_test))\n",
    "print('Mean Squared  Error      : ', metrics.mean_squared_error(y_test, y_pred_test))\n",
    "print('Root Mean Squared  Error : ', np.sqrt(metrics.mean_squared_error(y_test, y_pred_test)))\n",
    "print('Accuracy on Training set   : ', metrics.r2_score(y_train,y_pred_train))\n",
    "print('Accuracy on Testing set  : ', metrics.r2_score(y_test,y_pred_test))"
   ]
  }
 ],
 "metadata": {
  "kernelspec": {
   "display_name": "mlflow-loan",
   "language": "python",
   "name": "python3"
  },
  "language_info": {
   "name": "python",
   "version": "3.8.16"
  },
  "orig_nbformat": 4
 },
 "nbformat": 4,
 "nbformat_minor": 2
}
