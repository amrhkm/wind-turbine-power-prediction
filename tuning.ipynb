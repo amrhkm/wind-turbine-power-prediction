{
 "cells": [
  {
   "cell_type": "code",
   "execution_count": 1,
   "metadata": {},
   "outputs": [],
   "source": [
    "import numpy as np\n",
    "import pandas as pd\n",
    "import matplotlib.pyplot as plt\n",
    "import seaborn as sns\n",
    "import warnings\n",
    "warnings.filterwarnings('ignore')\n"
   ]
  },
  {
   "cell_type": "code",
   "execution_count": 35,
   "metadata": {},
   "outputs": [
    {
     "data": {
      "text/html": [
       "<div>\n",
       "<style scoped>\n",
       "    .dataframe tbody tr th:only-of-type {\n",
       "        vertical-align: middle;\n",
       "    }\n",
       "\n",
       "    .dataframe tbody tr th {\n",
       "        vertical-align: top;\n",
       "    }\n",
       "\n",
       "    .dataframe thead th {\n",
       "        text-align: right;\n",
       "    }\n",
       "</style>\n",
       "<table border=\"1\" class=\"dataframe\">\n",
       "  <thead>\n",
       "    <tr style=\"text-align: right;\">\n",
       "      <th></th>\n",
       "      <th>power_kw</th>\n",
       "      <th>wind_speed_ms</th>\n",
       "      <th>theoretical_power_kw</th>\n",
       "      <th>wind_direction_deg</th>\n",
       "      <th>year</th>\n",
       "      <th>month</th>\n",
       "      <th>day</th>\n",
       "      <th>hour</th>\n",
       "    </tr>\n",
       "  </thead>\n",
       "  <tbody>\n",
       "    <tr>\n",
       "      <th>0</th>\n",
       "      <td>380.047791</td>\n",
       "      <td>5.311336</td>\n",
       "      <td>416.328908</td>\n",
       "      <td>259.994904</td>\n",
       "      <td>2018</td>\n",
       "      <td>1</td>\n",
       "      <td>1</td>\n",
       "      <td>0</td>\n",
       "    </tr>\n",
       "    <tr>\n",
       "      <th>1</th>\n",
       "      <td>453.769196</td>\n",
       "      <td>5.672167</td>\n",
       "      <td>519.917511</td>\n",
       "      <td>268.641113</td>\n",
       "      <td>2018</td>\n",
       "      <td>1</td>\n",
       "      <td>1</td>\n",
       "      <td>0</td>\n",
       "    </tr>\n",
       "    <tr>\n",
       "      <th>2</th>\n",
       "      <td>306.376587</td>\n",
       "      <td>5.216037</td>\n",
       "      <td>390.900016</td>\n",
       "      <td>272.564789</td>\n",
       "      <td>2018</td>\n",
       "      <td>1</td>\n",
       "      <td>1</td>\n",
       "      <td>0</td>\n",
       "    </tr>\n",
       "    <tr>\n",
       "      <th>3</th>\n",
       "      <td>419.645905</td>\n",
       "      <td>5.659674</td>\n",
       "      <td>516.127569</td>\n",
       "      <td>271.258087</td>\n",
       "      <td>2018</td>\n",
       "      <td>1</td>\n",
       "      <td>1</td>\n",
       "      <td>0</td>\n",
       "    </tr>\n",
       "    <tr>\n",
       "      <th>4</th>\n",
       "      <td>380.650696</td>\n",
       "      <td>5.577941</td>\n",
       "      <td>491.702972</td>\n",
       "      <td>265.674286</td>\n",
       "      <td>2018</td>\n",
       "      <td>1</td>\n",
       "      <td>1</td>\n",
       "      <td>0</td>\n",
       "    </tr>\n",
       "  </tbody>\n",
       "</table>\n",
       "</div>"
      ],
      "text/plain": [
       "     power_kw  wind_speed_ms  theoretical_power_kw  wind_direction_deg  year   \n",
       "0  380.047791       5.311336            416.328908          259.994904  2018  \\\n",
       "1  453.769196       5.672167            519.917511          268.641113  2018   \n",
       "2  306.376587       5.216037            390.900016          272.564789  2018   \n",
       "3  419.645905       5.659674            516.127569          271.258087  2018   \n",
       "4  380.650696       5.577941            491.702972          265.674286  2018   \n",
       "\n",
       "   month  day  hour  \n",
       "0      1    1     0  \n",
       "1      1    1     0  \n",
       "2      1    1     0  \n",
       "3      1    1     0  \n",
       "4      1    1     0  "
      ]
     },
     "execution_count": 35,
     "metadata": {},
     "output_type": "execute_result"
    }
   ],
   "source": [
    "df = pd.read_csv(r\"C:\\Users\\hamir\\Desktop\\Wind Turbine\\data\\df.csv\")\n",
    "df.head()"
   ]
  },
  {
   "cell_type": "code",
   "execution_count": 16,
   "metadata": {},
   "outputs": [],
   "source": [
    "from sklearn import metrics\n",
    "from sklearn.metrics import mean_squared_error, mean_absolute_error, r2_score\n",
    "from sklearn.model_selection import train_test_split\n",
    "from sklearn.ensemble import ExtraTreesRegressor\n",
    "from sklearn.ensemble import GradientBoostingRegressor\n",
    "from sklearn.ensemble import RandomForestRegressor\n",
    "from sklearn.neighbors import KNeighborsRegressor\n",
    "from sklearn.tree import DecisionTreeRegressor\n",
    "from xgboost.sklearn import XGBRegressor\n",
    "from sklearn.ensemble import AdaBoostRegressor"
   ]
  },
  {
   "cell_type": "code",
   "execution_count": 36,
   "metadata": {},
   "outputs": [],
   "source": [
    "#features = [ 'power_kw', 'wind_speed_ms', 'theoretical_power_kw', 'wind_direction_deg', 'month', 'hour']\n",
    "\n",
    "features = ['power_kw', 'wind_speed_ms', 'theoretical_power_kw', 'wind_direction_deg', 'month', 'day', 'hour']\n",
    "\n",
    "training_data = df[features]\n",
    "X = training_data.drop(columns=['power_kw'], axis = 1).values\n",
    "Y= training_data['power_kw'].values"
   ]
  },
  {
   "cell_type": "code",
   "execution_count": 37,
   "metadata": {},
   "outputs": [
    {
     "name": "stdout",
     "output_type": "stream",
     "text": [
      "Dimensions of train set:\n",
      "X_train: (40424, 6), Y_train: (40424,)\n",
      "Dimensions of test set:\n",
      "X_test: (10106, 6), Y_test: (10106,)\n"
     ]
    }
   ],
   "source": [
    "x_train , x_test , y_train , y_test = train_test_split(X, Y, test_size=0.20, random_state=1234)\n",
    "\n",
    "print(\"Dimensions of train set:\")\n",
    "print(f\"X_train: {x_train.shape}, Y_train: {y_train.shape}\")\n",
    "print(\"Dimensions of test set:\")\n",
    "print(f\"X_test: {x_test.shape}, Y_test: {y_test.shape}\")\n"
   ]
  },
  {
   "cell_type": "code",
   "execution_count": 6,
   "metadata": {},
   "outputs": [
    {
     "data": {
      "text/plain": [
       "4"
      ]
     },
     "execution_count": 6,
     "metadata": {},
     "output_type": "execute_result"
    }
   ],
   "source": [
    "import multiprocessing\n",
    "n_cpus = multiprocessing.cpu_count()\n",
    "n_cpus"
   ]
  },
  {
   "cell_type": "code",
   "execution_count": 7,
   "metadata": {},
   "outputs": [],
   "source": [
    "# from sklearn.ensemble import RandomForestRegressor\n",
    "# from sklearn.feature_selection import SelectFromModel\n",
    "# from sklearn.metrics import mean_absolute_error, mean_squared_error, r2_score\n",
    "# from sklearn.model_selection import GridSearchCV\n",
    "\n",
    "\n",
    "# # Hyperparameter Tuning\n",
    "# rf = RandomForestRegressor()\n",
    "# param_grid = {\n",
    "#     'n_estimators': [100, 200, 300, 400, 500],\n",
    "#     'max_features': ['sqrt', 'log2'],\n",
    "#     'max_depth': [None, 10, 20, 30, 40, 50],\n",
    "#     'min_samples_split': [2, 4, 6, 8, 10],\n",
    "#     'min_samples_leaf': [1, 2, 4, 6, 8]\n",
    "# }\n",
    "# rf_cv = GridSearchCV(estimator=rf, param_grid=param_grid, cv=5, n_jobs=n_cpus )\n",
    "# rf_cv.fit(x_train, y_train)\n",
    "# best_params = rf_cv.best_params_  \n",
    "\n",
    "# print(best_params)\n"
   ]
  },
  {
   "cell_type": "code",
   "execution_count": 9,
   "metadata": {},
   "outputs": [],
   "source": [
    "def train_model( models, x_train, x_test, y_train, y_test):\n",
    "    \n",
    "    model = models\n",
    "    model.fit(x_train,y_train)\n",
    "    y_pred_test = model.predict(x_test)\n",
    "    y_pred_train = model.predict(x_train)\n",
    "    y_total_prediction = model.predict(X)\n",
    "    \n",
    "    print(\"\\t\\tError Table\")\n",
    "    print('Mean Absolute Error      : ', metrics.mean_absolute_error(y_test, y_pred_test))\n",
    "    print('Mean Squared  Error      : ', metrics.mean_squared_error(y_test, y_pred_test))\n",
    "    print('Root Mean Squared  Error : ', np.sqrt(metrics.mean_squared_error(y_test, y_pred_test)))\n",
    "    print('Accuracy on Training set   : ', metrics.r2_score(y_train,y_pred_train))\n",
    "    print('Accuracy on Testing set  : ', metrics.r2_score(y_test,y_pred_test))\n",
    "    return y_total_prediction, model"
   ]
  },
  {
   "cell_type": "code",
   "execution_count": 13,
   "metadata": {},
   "outputs": [],
   "source": [
    "def visualizing_power(y_total_prediction, y_actual):\n",
    "    y_real = y_actual\n",
    "    y_prediction = y_total_prediction\n",
    "    TP = df['theoretical_power_kw']\n",
    "    number = len(df['wind_speed_ms'])\n",
    "    aa = [x for x in df['wind_speed_ms']]\n",
    "    \n",
    "    plt.figure(figsize=(21, 6))\n",
    "    \n",
    "    sns.scatterplot(x=aa, y=y_real[:number], color='cornflowerblue', label='Real Power Production', marker='o')\n",
    "    sns.scatterplot(x=aa, y=y_prediction[:number], color='#3CB371', label='Predicted Power Production', alpha=0.3, marker='P')\n",
    "    sns.lineplot(x='wind_speed_ms', y='theoretical_power_kw', color='crimson', label='Theoretical Power Production', data=df)\n",
    "    \n",
    "    plt.xlabel('Wind Speed (m/s)', size=10)\n",
    "    plt.ylabel('Power Production (kW)', size=10)\n",
    "    plt.title('Wind Turbine Power Production Prediction', size=20)\n",
    "    plt.legend(fontsize=10)\n",
    "    plt.show()\n"
   ]
  },
  {
   "cell_type": "code",
   "execution_count": 7,
   "metadata": {},
   "outputs": [
    {
     "name": "stdout",
     "output_type": "stream",
     "text": [
      "{'max_depth': None, 'max_features': 'sqrt', 'min_samples_leaf': 1, 'min_samples_split': 2, 'n_estimators': 112}\n"
     ]
    }
   ],
   "source": [
    "from sklearn.ensemble import RandomForestRegressor\n",
    "from sklearn.feature_selection import SelectFromModel\n",
    "from sklearn.metrics import mean_absolute_error, mean_squared_error, r2_score\n",
    "from sklearn.model_selection import RandomizedSearchCV\n",
    "from scipy.stats import randint as sp_randint\n",
    "\n",
    "# Hyperparameter Tuning\n",
    "rf = RandomForestRegressor()\n",
    "param_dist = {\n",
    "    'n_estimators': sp_randint(100, 500),\n",
    "    'max_features': ['sqrt', 'log2'],\n",
    "    'max_depth': [None, 10, 20, 30, 40, 50],\n",
    "    'min_samples_split': sp_randint(2, 10),\n",
    "    'min_samples_leaf': sp_randint(1, 8)\n",
    "}\n",
    "n_iter_search = 50\n",
    "rf_cv = RandomizedSearchCV(estimator=rf, param_distributions=param_dist, n_iter=n_iter_search, cv=5, n_jobs=n_cpus)\n",
    "rf_cv.fit(x_train, y_train)\n",
    "best_params = rf_cv.best_params_  \n",
    "\n",
    "print(best_params)\n"
   ]
  },
  {
   "cell_type": "code",
   "execution_count": 19,
   "metadata": {},
   "outputs": [],
   "source": [
    "param_best = {'max_depth': None, 'max_features': 'sqrt', 'min_samples_leaf': 1, 'min_samples_split': 2, 'n_estimators': 112}"
   ]
  },
  {
   "cell_type": "code",
   "execution_count": 38,
   "metadata": {},
   "outputs": [
    {
     "name": "stdout",
     "output_type": "stream",
     "text": [
      "\t\tError Table\n",
      "Mean Absolute Error      :  72.77467387308954\n",
      "Mean Squared  Error      :  31235.62040054334\n",
      "Root Mean Squared  Error :  176.73601896767772\n",
      "Accuracy on Training set   :  0.9967842249597506\n",
      "Accuracy on Testing set  :  0.982062248277174\n"
     ]
    }
   ],
   "source": [
    "y_predicted, RFOREST = train_model( RandomForestRegressor(**best_params),  x_train , x_test , y_train , y_test)\n",
    "#visualizing_power(y_predicted, Y)"
   ]
  },
  {
   "cell_type": "code",
   "execution_count": 45,
   "metadata": {},
   "outputs": [],
   "source": [
    "import pickle\n",
    "\n",
    "# Train and get the best random forest model\n",
    "\n",
    "# Save the trained model to a file\n",
    "with open('best_rf.pickle', 'wb') as f:\n",
    "    pickle.dump(RFOREST, f)\n"
   ]
  }
 ],
 "metadata": {
  "kernelspec": {
   "display_name": "mlflow-loan",
   "language": "python",
   "name": "python3"
  },
  "language_info": {
   "codemirror_mode": {
    "name": "ipython",
    "version": 3
   },
   "file_extension": ".py",
   "mimetype": "text/x-python",
   "name": "python",
   "nbconvert_exporter": "python",
   "pygments_lexer": "ipython3",
   "version": "3.8.16"
  },
  "orig_nbformat": 4
 },
 "nbformat": 4,
 "nbformat_minor": 2
}
